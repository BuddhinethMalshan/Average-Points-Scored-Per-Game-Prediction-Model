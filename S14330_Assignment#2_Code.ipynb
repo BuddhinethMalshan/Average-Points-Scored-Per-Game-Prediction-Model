{
 "cells": [
  {
   "cell_type": "code",
   "execution_count": 144,
   "id": "7507361a",
   "metadata": {},
   "outputs": [],
   "source": [
    "import pandas as pd\n",
    "from sklearn.model_selection import train_test_split,GridSearchCV,RandomizedSearchCV,KFold\n",
    "from sklearn.feature_selection import RFECV\n",
    "from sklearn.linear_model import LinearRegression\n",
    "from sklearn.linear_model import Ridge, RidgeCV, Lasso, ElasticNet\n",
    "from sklearn.metrics import r2_score, mean_absolute_error, mean_squared_error\n",
    "import numpy as np\n",
    "import seaborn as sns\n",
    "import matplotlib.pyplot as plt"
   ]
  },
  {
   "cell_type": "markdown",
   "id": "05d194c6",
   "metadata": {},
   "source": [
    "### Import Dataset"
   ]
  },
  {
   "cell_type": "code",
   "execution_count": 80,
   "id": "a982b559",
   "metadata": {},
   "outputs": [
    {
     "data": {
      "text/html": [
       "<div>\n",
       "<style scoped>\n",
       "    .dataframe tbody tr th:only-of-type {\n",
       "        vertical-align: middle;\n",
       "    }\n",
       "\n",
       "    .dataframe tbody tr th {\n",
       "        vertical-align: top;\n",
       "    }\n",
       "\n",
       "    .dataframe thead th {\n",
       "        text-align: right;\n",
       "    }\n",
       "</style>\n",
       "<table border=\"1\" class=\"dataframe\">\n",
       "  <thead>\n",
       "    <tr style=\"text-align: right;\">\n",
       "      <th></th>\n",
       "      <th>X1</th>\n",
       "      <th>X2</th>\n",
       "      <th>X3</th>\n",
       "      <th>X4</th>\n",
       "      <th>X12</th>\n",
       "      <th>X13</th>\n",
       "      <th>X14</th>\n",
       "      <th>X23</th>\n",
       "      <th>X24</th>\n",
       "      <th>X34</th>\n",
       "      <th>X123</th>\n",
       "      <th>X124</th>\n",
       "      <th>X234</th>\n",
       "      <th>X1234</th>\n",
       "      <th>X5</th>\n",
       "    </tr>\n",
       "  </thead>\n",
       "  <tbody>\n",
       "    <tr>\n",
       "      <th>0</th>\n",
       "      <td>6.7</td>\n",
       "      <td>240</td>\n",
       "      <td>0.516</td>\n",
       "      <td>0.728</td>\n",
       "      <td>1608.0</td>\n",
       "      <td>3.4572</td>\n",
       "      <td>4.8776</td>\n",
       "      <td>123.840</td>\n",
       "      <td>174.720</td>\n",
       "      <td>0.375648</td>\n",
       "      <td>829.7280</td>\n",
       "      <td>1170.6240</td>\n",
       "      <td>90.15552</td>\n",
       "      <td>604.041984</td>\n",
       "      <td>8.9</td>\n",
       "    </tr>\n",
       "    <tr>\n",
       "      <th>1</th>\n",
       "      <td>7.3</td>\n",
       "      <td>263</td>\n",
       "      <td>0.482</td>\n",
       "      <td>0.655</td>\n",
       "      <td>1919.9</td>\n",
       "      <td>3.5186</td>\n",
       "      <td>4.7815</td>\n",
       "      <td>126.766</td>\n",
       "      <td>172.265</td>\n",
       "      <td>0.315710</td>\n",
       "      <td>925.3918</td>\n",
       "      <td>1257.5345</td>\n",
       "      <td>83.03173</td>\n",
       "      <td>606.131629</td>\n",
       "      <td>7.2</td>\n",
       "    </tr>\n",
       "    <tr>\n",
       "      <th>2</th>\n",
       "      <td>6.3</td>\n",
       "      <td>185</td>\n",
       "      <td>0.374</td>\n",
       "      <td>0.709</td>\n",
       "      <td>1165.5</td>\n",
       "      <td>2.3562</td>\n",
       "      <td>4.4667</td>\n",
       "      <td>69.190</td>\n",
       "      <td>131.165</td>\n",
       "      <td>0.265166</td>\n",
       "      <td>435.8970</td>\n",
       "      <td>826.3395</td>\n",
       "      <td>49.05571</td>\n",
       "      <td>309.050973</td>\n",
       "      <td>8.1</td>\n",
       "    </tr>\n",
       "    <tr>\n",
       "      <th>3</th>\n",
       "      <td>6.8</td>\n",
       "      <td>210</td>\n",
       "      <td>0.402</td>\n",
       "      <td>0.739</td>\n",
       "      <td>1428.0</td>\n",
       "      <td>2.7336</td>\n",
       "      <td>5.0252</td>\n",
       "      <td>84.420</td>\n",
       "      <td>155.190</td>\n",
       "      <td>0.297078</td>\n",
       "      <td>574.0560</td>\n",
       "      <td>1055.2920</td>\n",
       "      <td>62.38638</td>\n",
       "      <td>424.227384</td>\n",
       "      <td>8.7</td>\n",
       "    </tr>\n",
       "    <tr>\n",
       "      <th>4</th>\n",
       "      <td>5.8</td>\n",
       "      <td>180</td>\n",
       "      <td>0.425</td>\n",
       "      <td>0.872</td>\n",
       "      <td>1044.0</td>\n",
       "      <td>2.4650</td>\n",
       "      <td>5.0576</td>\n",
       "      <td>76.500</td>\n",
       "      <td>156.960</td>\n",
       "      <td>0.370600</td>\n",
       "      <td>443.7000</td>\n",
       "      <td>910.3680</td>\n",
       "      <td>66.70800</td>\n",
       "      <td>386.906400</td>\n",
       "      <td>11.8</td>\n",
       "    </tr>\n",
       "  </tbody>\n",
       "</table>\n",
       "</div>"
      ],
      "text/plain": [
       "    X1   X2     X3     X4     X12     X13     X14      X23      X24       X34  \\\n",
       "0  6.7  240  0.516  0.728  1608.0  3.4572  4.8776  123.840  174.720  0.375648   \n",
       "1  7.3  263  0.482  0.655  1919.9  3.5186  4.7815  126.766  172.265  0.315710   \n",
       "2  6.3  185  0.374  0.709  1165.5  2.3562  4.4667   69.190  131.165  0.265166   \n",
       "3  6.8  210  0.402  0.739  1428.0  2.7336  5.0252   84.420  155.190  0.297078   \n",
       "4  5.8  180  0.425  0.872  1044.0  2.4650  5.0576   76.500  156.960  0.370600   \n",
       "\n",
       "       X123       X124      X234       X1234    X5  \n",
       "0  829.7280  1170.6240  90.15552  604.041984   8.9  \n",
       "1  925.3918  1257.5345  83.03173  606.131629   7.2  \n",
       "2  435.8970   826.3395  49.05571  309.050973   8.1  \n",
       "3  574.0560  1055.2920  62.38638  424.227384   8.7  \n",
       "4  443.7000   910.3680  66.70800  386.906400  11.8  "
      ]
     },
     "execution_count": 80,
     "metadata": {},
     "output_type": "execute_result"
    }
   ],
   "source": [
    "test=pd.read_csv('test_data_id.csv')\n",
    "train=pd.read_csv('train_data_id.csv')\n",
    "train.head()"
   ]
  },
  {
   "cell_type": "code",
   "execution_count": 81,
   "id": "88b514b4",
   "metadata": {
    "scrolled": true
   },
   "outputs": [],
   "source": [
    "#sns.pairplot(data=train, diag_kind='kde')"
   ]
  },
  {
   "cell_type": "code",
   "execution_count": 82,
   "id": "f52ffe04",
   "metadata": {},
   "outputs": [],
   "source": [
    "#sns.heatmap(train[['X2', 'X3', 'X4']].corr(),annot=True)\n",
    "#plt.show()"
   ]
  },
  {
   "cell_type": "code",
   "execution_count": 126,
   "id": "68709d51",
   "metadata": {},
   "outputs": [],
   "source": [
    "X_train=train.iloc[:44,:14]\n",
    "Y_train=train.iloc[:44,14]\n"
   ]
  },
  {
   "cell_type": "markdown",
   "id": "226f09b8",
   "metadata": {},
   "source": [
    "### Variable Selection procedure "
   ]
  },
  {
   "cell_type": "code",
   "execution_count": 127,
   "id": "d964f45b",
   "metadata": {},
   "outputs": [],
   "source": [
    "rfe = RFECV(estimator=LinearRegression(),min_features_to_select=3)"
   ]
  },
  {
   "cell_type": "code",
   "execution_count": 128,
   "id": "f4c0ab5c",
   "metadata": {},
   "outputs": [],
   "source": [
    "Reg_var = rfe.fit(X_train,Y_train)"
   ]
  },
  {
   "cell_type": "code",
   "execution_count": 129,
   "id": "c082b2e8",
   "metadata": {},
   "outputs": [
    {
     "data": {
      "text/plain": [
       "array([False, False,  True,  True, False, False, False, False, False,\n",
       "        True, False, False, False, False])"
      ]
     },
     "execution_count": 129,
     "metadata": {},
     "output_type": "execute_result"
    }
   ],
   "source": [
    "Reg_var.support_"
   ]
  },
  {
   "cell_type": "code",
   "execution_count": 130,
   "id": "03d4b521",
   "metadata": {},
   "outputs": [],
   "source": [
    "X_train=train[['X3','X4','X34']]\n",
    "X_test=test[['X3','X4','X34']]"
   ]
  },
  {
   "cell_type": "markdown",
   "id": "500117e6",
   "metadata": {},
   "source": [
    "### Model Fitting"
   ]
  },
  {
   "cell_type": "code",
   "execution_count": 131,
   "id": "724382f6",
   "metadata": {},
   "outputs": [],
   "source": [
    "model=LinearRegression()"
   ]
  },
  {
   "cell_type": "code",
   "execution_count": 132,
   "id": "963c63de",
   "metadata": {},
   "outputs": [],
   "source": [
    "m=model.fit(X_train,(Y_train))"
   ]
  },
  {
   "cell_type": "code",
   "execution_count": 133,
   "id": "9833795b",
   "metadata": {},
   "outputs": [
    {
     "data": {
      "text/plain": [
       "-71.93798042586431"
      ]
     },
     "execution_count": 133,
     "metadata": {},
     "output_type": "execute_result"
    }
   ],
   "source": [
    "m.intercept_"
   ]
  },
  {
   "cell_type": "code",
   "execution_count": 134,
   "id": "9842646b",
   "metadata": {},
   "outputs": [
    {
     "data": {
      "text/plain": [
       "array([ 160.99554659,   91.82821341, -171.09647741])"
      ]
     },
     "execution_count": 134,
     "metadata": {},
     "output_type": "execute_result"
    }
   ],
   "source": [
    "m.coef_"
   ]
  },
  {
   "cell_type": "code",
   "execution_count": 135,
   "id": "3ac6aaf4",
   "metadata": {},
   "outputs": [
    {
     "data": {
      "text/plain": [
       "0.20846502213621343"
      ]
     },
     "execution_count": 135,
     "metadata": {},
     "output_type": "execute_result"
    }
   ],
   "source": [
    "m.score(X_train,(Y_train))"
   ]
  },
  {
   "cell_type": "markdown",
   "id": "4c28a0c1",
   "metadata": {},
   "source": [
    "### Predictions"
   ]
  },
  {
   "cell_type": "code",
   "execution_count": 136,
   "id": "5c3a8a0a",
   "metadata": {},
   "outputs": [
    {
     "data": {
      "text/plain": [
       "array([11.96387519, 11.55789283, 13.34395294, 12.94719841, 13.74794741,\n",
       "       11.73873058,  6.30319272, 12.5580987 , 14.2441941 , 11.64663281,\n",
       "       11.38963408])"
      ]
     },
     "execution_count": 136,
     "metadata": {},
     "output_type": "execute_result"
    }
   ],
   "source": [
    "y_pred=model.predict(X_test)\n",
    "(y_pred)"
   ]
  },
  {
   "cell_type": "markdown",
   "id": "edbc67cc",
   "metadata": {
    "collapsed": true
   },
   "source": [
    "### Lasso, Ridge, ElasticNet Models"
   ]
  },
  {
   "cell_type": "code",
   "execution_count": 186,
   "id": "751e1296",
   "metadata": {},
   "outputs": [],
   "source": [
    "x=train[['X3','X4','X34']]\n",
    "y=train.iloc[:,14]\n",
    "x_test_data=test[['X3','X4','X34']]"
   ]
  },
  {
   "cell_type": "code",
   "execution_count": 187,
   "id": "e3ce7d75",
   "metadata": {},
   "outputs": [],
   "source": [
    "x_train,x_test,y_train,y_test=train_test_split(x,y,test_size=0.2,random_state=0)"
   ]
  },
  {
   "cell_type": "code",
   "execution_count": 188,
   "id": "32753eb8",
   "metadata": {},
   "outputs": [],
   "source": [
    "model1=Lasso()\n",
    "params={\"alpha\":[0.08,0.09,0.1,0.2,0.3,0.4,0.5,0.6,0.7,0.8,0.9,1,2,4,6,7,8,9,10,20,50,100 ]}\n",
    "cval=KFold(n_splits=10)"
   ]
  },
  {
   "cell_type": "code",
   "execution_count": 189,
   "id": "4642ba61",
   "metadata": {},
   "outputs": [],
   "source": [
    "model3=Ridge()\n",
    "params={\"alpha\":[0.08,0.09,0.1,0.2,0.3,0.4,0.5,0.6,0.7,0.8,0.9,1,2,4,6,7,8,9,10,20,50,100 ]}\n",
    "cval=KFold(n_splits=10)"
   ]
  },
  {
   "cell_type": "code",
   "execution_count": 190,
   "id": "0e26190c",
   "metadata": {},
   "outputs": [],
   "source": [
    "model2=ElasticNet()\n",
    "params={\"alpha\":[0.08,0.09,0.1,0.2,0.3,0.4,0.5,0.6,0.7,0.8,0.9,1,2,4,6,7,8,9,10,20,50,100 ]}\n",
    "cval=KFold(n_splits=10)"
   ]
  },
  {
   "cell_type": "code",
   "execution_count": 191,
   "id": "d5c54fdf",
   "metadata": {},
   "outputs": [],
   "source": [
    "gsearch=GridSearchCV(model1,params,cv=cval)\n",
    "esearch=GridSearchCV(model2,params,cv=cval)\n",
    "rsearch=GridSearchCV(model3,params,cv=cval)"
   ]
  },
  {
   "cell_type": "code",
   "execution_count": 192,
   "id": "7ec62b74",
   "metadata": {},
   "outputs": [
    {
     "data": {
      "text/plain": [
       "{'alpha': 0.3}"
      ]
     },
     "execution_count": 192,
     "metadata": {},
     "output_type": "execute_result"
    }
   ],
   "source": [
    "results=gsearch.fit(x_train,y_train)\n",
    "results.best_params_"
   ]
  },
  {
   "cell_type": "code",
   "execution_count": 193,
   "id": "c9ee0c0e",
   "metadata": {},
   "outputs": [
    {
     "data": {
      "text/plain": [
       "{'alpha': 0.5}"
      ]
     },
     "execution_count": 193,
     "metadata": {},
     "output_type": "execute_result"
    }
   ],
   "source": [
    "results=esearch.fit(x_train,y_train)\n",
    "results.best_params_"
   ]
  },
  {
   "cell_type": "code",
   "execution_count": 194,
   "id": "9824a83f",
   "metadata": {},
   "outputs": [
    {
     "data": {
      "text/plain": [
       "{'alpha': 20}"
      ]
     },
     "execution_count": 194,
     "metadata": {},
     "output_type": "execute_result"
    }
   ],
   "source": [
    "results=rsearch.fit(x_train,y_train)\n",
    "results.best_params_"
   ]
  },
  {
   "cell_type": "code",
   "execution_count": 195,
   "id": "123546e1",
   "metadata": {},
   "outputs": [
    {
     "name": "stderr",
     "output_type": "stream",
     "text": [
      "C:\\Users\\user\\anaconda3\\lib\\site-packages\\sklearn\\linear_model\\_coordinate_descent.py:530: ConvergenceWarning: Objective did not converge. You might want to increase the number of iterations. Duality gap: 111.75892123933562, tolerance: 0.0884129411764706\n",
      "  model = cd_fast.enet_coordinate_descent(\n"
     ]
    },
    {
     "data": {
      "text/plain": [
       "Ridge(alpha=0.0001)"
      ]
     },
     "execution_count": 195,
     "metadata": {},
     "output_type": "execute_result"
    }
   ],
   "source": [
    "lmodel=Lasso(alpha=0.0001)\n",
    "lmodel.fit(x_train,y_train)\n",
    "\n",
    "emodel=ElasticNet(alpha=0.0001) #0.0000000000001\n",
    "emodel.fit(x_train,y_train)\n",
    "\n",
    "rmodel=Ridge(alpha=0.0001) #0.0000000000001\n",
    "rmodel.fit(x_train,y_train)"
   ]
  },
  {
   "cell_type": "markdown",
   "id": "89b063d5",
   "metadata": {},
   "source": [
    "#### Lasso Model"
   ]
  },
  {
   "cell_type": "code",
   "execution_count": 196,
   "id": "744a495d",
   "metadata": {},
   "outputs": [
    {
     "data": {
      "text/plain": [
       "array([ 161.80636243,   97.59329005, -178.04745855])"
      ]
     },
     "execution_count": 196,
     "metadata": {},
     "output_type": "execute_result"
    }
   ],
   "source": [
    "lmodel.coef_"
   ]
  },
  {
   "cell_type": "code",
   "execution_count": 197,
   "id": "9d4f0493",
   "metadata": {},
   "outputs": [
    {
     "data": {
      "text/plain": [
       "0.23422944880539365"
      ]
     },
     "execution_count": 197,
     "metadata": {},
     "output_type": "execute_result"
    }
   ],
   "source": [
    "lmodel.score(x_train,y_train)"
   ]
  },
  {
   "cell_type": "code",
   "execution_count": 198,
   "id": "0aad0184",
   "metadata": {},
   "outputs": [
    {
     "data": {
      "text/plain": [
       "37.2987995569082"
      ]
     },
     "execution_count": 198,
     "metadata": {},
     "output_type": "execute_result"
    }
   ],
   "source": [
    "ly_pred=(lmodel.predict(x_test))\n",
    "MSE=mean_squared_error(ly_pred,y_test)\n",
    "MSE"
   ]
  },
  {
   "cell_type": "code",
   "execution_count": 199,
   "id": "32c73bac",
   "metadata": {},
   "outputs": [
    {
     "data": {
      "text/plain": [
       "array([12.39040027, 11.95625791, 13.62566875, 12.97517821, 14.09639711,\n",
       "       12.32044569,  6.20446293, 12.64309745, 14.21624667, 11.80604321,\n",
       "       11.72569296])"
      ]
     },
     "execution_count": 199,
     "metadata": {},
     "output_type": "execute_result"
    }
   ],
   "source": [
    "(lmodel.predict(x_test_data))"
   ]
  },
  {
   "cell_type": "markdown",
   "id": "9ebb1778",
   "metadata": {},
   "source": [
    "#### Ridge Model"
   ]
  },
  {
   "cell_type": "code",
   "execution_count": 200,
   "id": "dfc9b7c4",
   "metadata": {},
   "outputs": [
    {
     "data": {
      "text/plain": [
       "array([ 134.12560266,   80.10815106, -140.19310027])"
      ]
     },
     "execution_count": 200,
     "metadata": {},
     "output_type": "execute_result"
    }
   ],
   "source": [
    "rmodel.coef_"
   ]
  },
  {
   "cell_type": "code",
   "execution_count": 201,
   "id": "7cb0f57f",
   "metadata": {},
   "outputs": [
    {
     "data": {
      "text/plain": [
       "0.23257982398680166"
      ]
     },
     "execution_count": 201,
     "metadata": {},
     "output_type": "execute_result"
    }
   ],
   "source": [
    "rmodel.score(x_train,y_train)"
   ]
  },
  {
   "cell_type": "code",
   "execution_count": 202,
   "id": "2d414f6b",
   "metadata": {},
   "outputs": [
    {
     "data": {
      "text/plain": [
       "36.978745286128586"
      ]
     },
     "execution_count": 202,
     "metadata": {},
     "output_type": "execute_result"
    }
   ],
   "source": [
    "ry_pred=emodel.predict(x_test)\n",
    "MSE=mean_squared_error(ry_pred,y_test)\n",
    "MSE"
   ]
  },
  {
   "cell_type": "code",
   "execution_count": 207,
   "id": "375ad9a3",
   "metadata": {},
   "outputs": [
    {
     "data": {
      "text/plain": [
       "array([12.33838562, 11.91417509, 13.70484516, 13.00238961, 14.2198792 ,\n",
       "       12.18095398,  6.5483167 , 12.66679267, 14.37821053, 11.82048909,\n",
       "       11.70728859])"
      ]
     },
     "execution_count": 207,
     "metadata": {},
     "output_type": "execute_result"
    }
   ],
   "source": [
    "rmodel.predict(x_test_data)"
   ]
  },
  {
   "cell_type": "markdown",
   "id": "28fede9d",
   "metadata": {},
   "source": [
    "#### ElasticNet Model"
   ]
  },
  {
   "cell_type": "code",
   "execution_count": 208,
   "id": "b65e5073",
   "metadata": {},
   "outputs": [
    {
     "data": {
      "text/plain": [
       "array([38.65849254, 19.89310131, -9.99741727])"
      ]
     },
     "execution_count": 208,
     "metadata": {},
     "output_type": "execute_result"
    }
   ],
   "source": [
    "emodel.coef_"
   ]
  },
  {
   "cell_type": "code",
   "execution_count": 209,
   "id": "700c607e",
   "metadata": {},
   "outputs": [
    {
     "data": {
      "text/plain": [
       "0.21606643535533232"
      ]
     },
     "execution_count": 209,
     "metadata": {},
     "output_type": "execute_result"
    }
   ],
   "source": [
    "emodel.score(x_train,y_train)"
   ]
  },
  {
   "cell_type": "code",
   "execution_count": 210,
   "id": "38f2736b",
   "metadata": {},
   "outputs": [
    {
     "data": {
      "text/plain": [
       "36.978745286128586"
      ]
     },
     "execution_count": 210,
     "metadata": {},
     "output_type": "execute_result"
    }
   ],
   "source": [
    "ey_pred=emodel.predict(x_test)\n",
    "MSE=mean_squared_error(ey_pred,y_test)\n",
    "MSE"
   ]
  },
  {
   "cell_type": "code",
   "execution_count": 211,
   "id": "ad8c45ce",
   "metadata": {},
   "outputs": [
    {
     "data": {
      "text/plain": [
       "array([12.15715879, 11.76946494, 13.96087514, 13.08292974, 14.62447428,\n",
       "       11.70366277,  7.75321321, 12.73823351, 14.90907878, 11.86692117,\n",
       "       11.64419938])"
      ]
     },
     "execution_count": 211,
     "metadata": {},
     "output_type": "execute_result"
    }
   ],
   "source": [
    "emodel.predict(x_test_data)"
   ]
  },
  {
   "cell_type": "code",
   "execution_count": null,
   "id": "d8c78900",
   "metadata": {},
   "outputs": [],
   "source": []
  }
 ],
 "metadata": {
  "kernelspec": {
   "display_name": "Python 3",
   "language": "python",
   "name": "python3"
  },
  "language_info": {
   "codemirror_mode": {
    "name": "ipython",
    "version": 3
   },
   "file_extension": ".py",
   "mimetype": "text/x-python",
   "name": "python",
   "nbconvert_exporter": "python",
   "pygments_lexer": "ipython3",
   "version": "3.8.8"
  }
 },
 "nbformat": 4,
 "nbformat_minor": 5
}
